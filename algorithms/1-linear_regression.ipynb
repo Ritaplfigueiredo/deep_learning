{
 "cells": [
  {
   "cell_type": "code",
   "execution_count": 1,
   "metadata": {
    "collapsed": true
   },
   "outputs": [],
   "source": [
    "import tensorflow as tf\n",
    "import numpy as np"
   ]
  },
  {
   "cell_type": "code",
   "execution_count": 2,
   "metadata": {
    "collapsed": true
   },
   "outputs": [],
   "source": [
    "np.random.seed(100)"
   ]
  },
  {
   "cell_type": "markdown",
   "metadata": {},
   "source": [
    "Attempt to learn the linear function $y = wx + b$, using linear regression where $w = 4$."
   ]
  },
  {
   "cell_type": "code",
   "execution_count": 3,
   "metadata": {
    "collapsed": false
   },
   "outputs": [
    {
     "name": "stdout",
     "output_type": "stream",
     "text": [
      "Shape X: (1001,)\n",
      "Shape Y: (1001,)\n"
     ]
    }
   ],
   "source": [
    "# Generate training data artificially\n",
    "train_x = np.linspace(-1,1,1001)\n",
    "train_y = 4 * train_x + np.random.randn(*train_x.shape)\n",
    "print(\"Shape X: {}\".format(train_x.shape))\n",
    "print(\"Shape Y: {}\".format(train_y.shape))"
   ]
  },
  {
   "cell_type": "code",
   "execution_count": 4,
   "metadata": {
    "collapsed": true
   },
   "outputs": [],
   "source": [
    "# Define the graph structure\n",
    "\n",
    "# create place holders for input and target\n",
    "X = tf.placeholder(\"float\")\n",
    "Y = tf.placeholder(\"float\")\n",
    " # create a shared variable\n",
    "w = tf.Variable(0.0, name=\"weights\")"
   ]
  },
  {
   "cell_type": "code",
   "execution_count": 5,
   "metadata": {
    "collapsed": false
   },
   "outputs": [],
   "source": [
    "target = tf.multiply(X,w)\n",
    "# Use squared error for loss\n",
    "loss = tf.square(Y- target)\n",
    "# Set optimizer to use gradient descent, with learning rate of 0.01\n",
    "trainer = tf.train.GradientDescentOptimizer(learning_rate=0.01).minimize(loss)"
   ]
  },
  {
   "cell_type": "code",
   "execution_count": 6,
   "metadata": {
    "collapsed": false
   },
   "outputs": [
    {
     "name": "stdout",
     "output_type": "stream",
     "text": [
      "4.00583\n"
     ]
    }
   ],
   "source": [
    "# Increase epochs to improve estimate\n",
    "epochs = 50\n",
    "# Launch the graph in a session\n",
    "with tf.Session() as sess:\n",
    "    # Need to initialize w\n",
    "    tf.global_variables_initializer().run()\n",
    "\n",
    "    for i in range(epochs):\n",
    "        for (x, y) in zip(train_x, train_y):\n",
    "            sess.run(trainer, feed_dict={X: x, Y: y})\n",
    "    \n",
    "    # The output should be close to 4.0\n",
    "    print(sess.run(w))"
   ]
  },
  {
   "cell_type": "code",
   "execution_count": null,
   "metadata": {
    "collapsed": true
   },
   "outputs": [],
   "source": []
  }
 ],
 "metadata": {
  "kernelspec": {
   "display_name": "Python 2",
   "language": "python",
   "name": "python2"
  },
  "language_info": {
   "codemirror_mode": {
    "name": "ipython",
    "version": 2
   },
   "file_extension": ".py",
   "mimetype": "text/x-python",
   "name": "python",
   "nbconvert_exporter": "python",
   "pygments_lexer": "ipython2",
   "version": "2.7.12"
  }
 },
 "nbformat": 4,
 "nbformat_minor": 0
}
