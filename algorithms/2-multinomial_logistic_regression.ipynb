{
 "cells": [
  {
   "cell_type": "code",
   "execution_count": 1,
   "metadata": {
    "collapsed": true
   },
   "outputs": [],
   "source": [
    "import tensorflow as tf\n",
    "import numpy as np\n",
    "from tensorflow.examples.tutorials.mnist import input_data"
   ]
  },
  {
   "cell_type": "code",
   "execution_count": 2,
   "metadata": {
    "collapsed": true
   },
   "outputs": [],
   "source": [
    "np.random.seed(100)"
   ]
  },
  {
   "cell_type": "code",
   "execution_count": 3,
   "metadata": {
    "collapsed": false
   },
   "outputs": [
    {
     "name": "stdout",
     "output_type": "stream",
     "text": [
      "Extracting MNIST_data/train-images-idx3-ubyte.gz\n",
      "Extracting MNIST_data/train-labels-idx1-ubyte.gz\n",
      "Extracting MNIST_data/t10k-images-idx3-ubyte.gz\n",
      "Extracting MNIST_data/t10k-labels-idx1-ubyte.gz\n"
     ]
    }
   ],
   "source": [
    "# Set up training data\n",
    "mnist = input_data.read_data_sets(\"MNIST_data/\", one_hot=True)\n",
    "train_x, train_y, test_x, test_y = mnist.train.images, mnist.train.labels, mnist.test.images, mnist.test.labels"
   ]
  },
  {
   "cell_type": "code",
   "execution_count": 4,
   "metadata": {
    "collapsed": false
   },
   "outputs": [],
   "source": [
    "# Set up place holders\n",
    "# [None, 784], where None allows different dimensions. e.g batch size of 10 would be [10,784]\n",
    "X = tf.placeholder(\"float\", [None, 784])\n",
    "# MNIST is a classification exercise with 10 different labels.\n",
    "Y = tf.placeholder(\"float\", [None, 10])\n",
    "# Initialize parameter w, with random values sample from normal distribution.\n",
    "w = tf.Variable(tf.random_normal([784, 10], stddev=0.1))"
   ]
  },
  {
   "cell_type": "code",
   "execution_count": 5,
   "metadata": {
    "collapsed": true
   },
   "outputs": [],
   "source": [
    "# Set up logistic regression model.\n",
    "target = tf.matmul(X,w)\n",
    "# Apply softmax and compare two different pdf to get loss.\n",
    "loss = tf.reduce_mean(tf.nn.softmax_cross_entropy_with_logits(logits=target, labels=Y))\n",
    "trainer = tf.train.GradientDescentOptimizer(learning_rate=0.1).minimize(loss)\n",
    "# When we go to predict, evaluate the argmax.\n",
    "predict = tf.argmax(target, axis=1)"
   ]
  },
  {
   "cell_type": "code",
   "execution_count": 6,
   "metadata": {
    "collapsed": false
   },
   "outputs": [
    {
     "name": "stdout",
     "output_type": "stream",
     "text": [
      "(0, 0.89190000000000003)\n",
      "(1, 0.90349999999999997)\n",
      "(2, 0.90990000000000004)\n",
      "(3, 0.91310000000000002)\n",
      "(4, 0.91379999999999995)\n",
      "(5, 0.91539999999999999)\n",
      "(6, 0.9173)\n",
      "(7, 0.91810000000000003)\n",
      "(8, 0.91839999999999999)\n",
      "(9, 0.91930000000000001)\n",
      "(10, 0.9194)\n",
      "(11, 0.92010000000000003)\n",
      "(12, 0.92030000000000001)\n",
      "(13, 0.92069999999999996)\n",
      "(14, 0.92110000000000003)\n",
      "(15, 0.92159999999999997)\n",
      "(16, 0.92190000000000005)\n",
      "(17, 0.92190000000000005)\n",
      "(18, 0.92200000000000004)\n",
      "(19, 0.92179999999999995)\n"
     ]
    }
   ],
   "source": [
    "from sklearn.metrics import confusion_matrix\n",
    "epochs = 20\n",
    "with tf.Session() as sess:\n",
    "    tf.global_variables_initializer().run()\n",
    "    for i in range(epochs):\n",
    "        for start, end in zip(range(0, len(train_x), 128), range(128, len(train_x)+1, 128)):\n",
    "            sess.run(trainer, feed_dict={X: train_x[start:end], Y: train_y[start:end]})\n",
    "        print(i, np.mean(np.argmax(test_y, axis=1) == sess.run(predict, feed_dict={X: test_x})))\n",
    "        \n",
    "    # This is not really necessary, just included for visualization.    \n",
    "    cf_mat = confusion_matrix(np.argmax(test_y, axis=1), sess.run(predict, feed_dict={X: test_x}))"
   ]
  },
  {
   "cell_type": "code",
   "execution_count": 7,
   "metadata": {
    "collapsed": false
   },
   "outputs": [
    {
     "data": {
      "text/plain": [
       "<matplotlib.colorbar.Colorbar at 0x7f71c64da650>"
      ]
     },
     "execution_count": 7,
     "metadata": {},
     "output_type": "execute_result"
    },
    {
     "data": {
      "image/png": "[encoded data removed]",
      "text/plain": [
       "<matplotlib.figure.Figure at 0x7f71be27fcd0>"
      ]
     },
     "metadata": {},
     "output_type": "display_data"
    }
   ],
   "source": [
    "import matplotlib.pyplot as plt\n",
    "%matplotlib inline\n",
    "# (rows = true, columns = predicted)\n",
    "# We can see that the model had very little trouble with \"1\" while \"5\" posed some issues.\n",
    "plt.matshow(cf_mat)\n",
    "plt.colorbar()"
   ]
  },
  {
   "cell_type": "code",
   "execution_count": null,
   "metadata": {
    "collapsed": true
   },
   "outputs": [],
   "source": []
  }
 ],
 "metadata": {
  "kernelspec": {
   "display_name": "Python 2",
   "language": "python",
   "name": "python2"
  },
  "language_info": {
   "codemirror_mode": {
    "name": "ipython",
    "version": 2
   },
   "file_extension": ".py",
   "mimetype": "text/x-python",
   "name": "python",
   "nbconvert_exporter": "python",
   "pygments_lexer": "ipython2",
   "version": "2.7.12"
  }
 },
 "nbformat": 4,
 "nbformat_minor": 0
}
