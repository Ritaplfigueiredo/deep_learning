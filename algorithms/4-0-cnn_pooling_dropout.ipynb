{
 "cells": [
  {
   "cell_type": "code",
   "execution_count": 1,
   "metadata": {
    "collapsed": true
   },
   "outputs": [],
   "source": [
    "import tensorflow as tf\n",
    "import numpy as np\n",
    "from tensorflow.examples.tutorials.mnist import input_data"
   ]
  },
  {
   "cell_type": "code",
   "execution_count": 2,
   "metadata": {
    "collapsed": true
   },
   "outputs": [],
   "source": [
    "np.random.seed(100)"
   ]
  },
  {
   "cell_type": "code",
   "execution_count": 3,
   "metadata": {
    "collapsed": false
   },
   "outputs": [
    {
     "name": "stdout",
     "output_type": "stream",
     "text": [
      "1.4.0\n",
      "1.13.3\n"
     ]
    }
   ],
   "source": [
    "print(tf.__version__)\n",
    "print(np.__version__)"
   ]
  },
  {
   "cell_type": "code",
   "execution_count": 12,
   "metadata": {
    "collapsed": false
   },
   "outputs": [],
   "source": [
    "class CNN(object):\n",
    "    # Using tf.layers and using chainer-esque style for\n",
    "    # Architecture taken from:\n",
    "    # https://www.tensorflow.org/tutorials/layers\n",
    "    def __init__(self, sess, n_classes, epochs, batch_size):\n",
    "        self._sess = sess\n",
    "        self._n_classes = n_classes\n",
    "        self._epochs = epochs\n",
    "        self._batch_size = batch_size\n",
    "        self._build_graph()\n",
    "        \n",
    "    def _model(self, x, p_drop):\n",
    "        # 2.2.1 in https://arxiv.org/abs/1603.07285 to understand CNN dimensions.\n",
    "        # \"same\" means solve padding to make output dimensions same as input.\n",
    "        # With a stride of (1,1), o = (i-k) + 2p + 1 and k = 2p + 1\n",
    "        # e.g. k = [5,5], then 5 = 2p + 1 -> p = 2 and o = (28-5)+2*2+1 = 28\n",
    "        # inputs=x, filters=32, kernel_size=[5, 5], stride=(1,1) padding=\"same\", activation=tf.nn.relu\n",
    "        x = tf.reshape(x, [-1, 28, 28, 1])\n",
    "        out = tf.layers.conv2d(x,  32, [5, 5], (1,1), \"same\", activation=tf.nn.relu)  # 28x28x32\n",
    "        out = tf.layers.max_pooling2d(out, [2, 2], (2,2))                             # 14x14x32\n",
    "        out = tf.layers.conv2d(out,  64, [5, 5], (1,1), \"same\", activation=tf.nn.relu)# 14x14x64\n",
    "        out = tf.layers.max_pooling2d(out, [2, 2], (2,2))                             # 7x7x64\n",
    "        out = tf.reshape(out, [-1, 7 * 7 * 64])\n",
    "        out = tf.layers.dense(out, 1024, tf.nn.relu) \n",
    "        out = tf.layers.dropout(out, p_drop)\n",
    "        out = tf.layers.dense(out, self._n_classes)\n",
    "        return out\n",
    "        \n",
    "    def _build_graph(self):\n",
    "        # Set up placeholders\n",
    "        self._inputs = tf.placeholder(\"float\", [None, 784])\n",
    "        self._targets = tf.placeholder(\"float\", [None, self._n_classes])\n",
    "        self._p_drop = tf.placeholder(\"float\")\n",
    "        \n",
    "        self._predict = self._model(self._inputs, self._p_drop)\n",
    "        self._loss = tf.losses.softmax_cross_entropy(onehot_labels=self._targets, logits=self._predict)\n",
    "        self._trainer = tf.train.GradientDescentOptimizer(learning_rate=0.1).minimize(self._loss)        \n",
    "    \n",
    "    def train(self, tr_x, tr_y, te_x, te_y):\n",
    "        tf.global_variables_initializer().run()\n",
    "        batches = zip(range(0, len(tr_x), self._batch_size), \n",
    "                      range(self._batch_size, len(tr_x)+1, self._batch_size)\n",
    "        )\n",
    "        for i in range(self._epochs):\n",
    "            for start, end in batches:\n",
    "                self._sess.run(self._trainer, feed_dict={\n",
    "                        self._inputs: tr_x[start:end],\n",
    "                        self._targets: tr_y[start:end],\n",
    "                        self._p_drop: 0.5}\n",
    "                )\n",
    "            print(i, np.mean(np.argmax(te_y, axis=1) == np.argmax(\n",
    "                        self._sess.run(self._predict, feed_dict={\n",
    "                            self._inputs: te_x,\n",
    "                            self._p_drop: 0.0}), # Set probability of dropout to 0 for testing.\n",
    "                        axis=1))\n",
    "            )\n"
   ]
  },
  {
   "cell_type": "code",
   "execution_count": 13,
   "metadata": {
    "collapsed": false
   },
   "outputs": [
    {
     "name": "stdout",
     "output_type": "stream",
     "text": [
      "Extracting MNIST_data/train-images-idx3-ubyte.gz\n",
      "Extracting MNIST_data/train-labels-idx1-ubyte.gz\n",
      "Extracting MNIST_data/t10k-images-idx3-ubyte.gz\n",
      "Extracting MNIST_data/t10k-labels-idx1-ubyte.gz\n",
      "(0, 0.95779999999999998)\n",
      "(1, 0.97819999999999996)\n",
      "(2, 0.98019999999999996)\n",
      "(3, 0.98640000000000005)\n",
      "(4, 0.9889)\n",
      "(5, 0.98939999999999995)\n",
      "(6, 0.99029999999999996)\n",
      "(7, 0.99029999999999996)\n",
      "(8, 0.99019999999999997)\n",
      "(9, 0.98980000000000001)\n"
     ]
    }
   ],
   "source": [
    "# Set up training data\n",
    "mnist = input_data.read_data_sets(\"MNIST_data/\", one_hot=True)\n",
    "train_x, train_y, test_x, test_y = mnist.train.images, mnist.train.labels, mnist.test.images, mnist.test.labels\n",
    "n_classes=10\n",
    "epochs=10\n",
    "batch_size=128\n",
    "\n",
    "tf.reset_default_graph()\n",
    "with tf.Session() as sess:\n",
    "    model = CNN(sess, 10, 10, 128)\n",
    "    model.train(train_x, train_y, test_x, test_y)"
   ]
  },
  {
   "cell_type": "code",
   "execution_count": null,
   "metadata": {
    "collapsed": true
   },
   "outputs": [],
   "source": []
  },
  {
   "cell_type": "code",
   "execution_count": null,
   "metadata": {
    "collapsed": true
   },
   "outputs": [],
   "source": []
  }
 ],
 "metadata": {
  "kernelspec": {
   "display_name": "Python 2",
   "language": "python",
   "name": "python2"
  },
  "language_info": {
   "codemirror_mode": {
    "name": "ipython",
    "version": 2
   },
   "file_extension": ".py",
   "mimetype": "text/x-python",
   "name": "python",
   "nbconvert_exporter": "python",
   "pygments_lexer": "ipython2",
   "version": "2.7.12"
  }
 },
 "nbformat": 4,
 "nbformat_minor": 0
}
