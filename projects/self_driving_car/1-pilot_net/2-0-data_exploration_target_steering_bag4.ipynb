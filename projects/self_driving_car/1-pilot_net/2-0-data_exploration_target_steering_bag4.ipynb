{
 "cells": [
  {
   "cell_type": "code",
   "execution_count": 22,
   "metadata": {},
   "outputs": [],
   "source": [
    "import numpy as np\n",
    "import pandas as pd\n",
    "import seaborn as sns\n",
    "import matplotlib.pyplot as plt\n",
    "\n",
    "from config import config\n",
    "%matplotlib inline"
   ]
  },
  {
   "cell_type": "code",
   "execution_count": 15,
   "metadata": {},
   "outputs": [],
   "source": [
    "# Directory where the csv files and /center, /left /right directories are located.\n",
    "# Bag 4 HMB_4: 99 seconds, divided highway segment of return trip over the summit\n",
    "data_dir = config['bag4']\n",
    "steering = 'steering.csv'"
   ]
  },
  {
   "cell_type": "code",
   "execution_count": 16,
   "metadata": {},
   "outputs": [],
   "source": [
    "full_path = data_dir + steering"
   ]
  },
  {
   "cell_type": "code",
   "execution_count": 17,
   "metadata": {},
   "outputs": [],
   "source": [
    "steering = pd.read_csv(full_path)"
   ]
  },
  {
   "cell_type": "code",
   "execution_count": 18,
   "metadata": {},
   "outputs": [
    {
     "data": {
      "text/html": [
       "<div>\n",
       "<style scoped>\n",
       "    .dataframe tbody tr th:only-of-type {\n",
       "        vertical-align: middle;\n",
       "    }\n",
       "\n",
       "    .dataframe tbody tr th {\n",
       "        vertical-align: top;\n",
       "    }\n",
       "\n",
       "    .dataframe thead th {\n",
       "        text-align: right;\n",
       "    }\n",
       "</style>\n",
       "<table border=\"1\" class=\"dataframe\">\n",
       "  <thead>\n",
       "    <tr style=\"text-align: right;\">\n",
       "      <th></th>\n",
       "      <th>timestamp</th>\n",
       "      <th>angle</th>\n",
       "      <th>torque</th>\n",
       "      <th>speed</th>\n",
       "    </tr>\n",
       "  </thead>\n",
       "  <tbody>\n",
       "    <tr>\n",
       "      <th>0</th>\n",
       "      <td>1479425728762169221</td>\n",
       "      <td>0.026180</td>\n",
       "      <td>0.1875</td>\n",
       "      <td>22.505556</td>\n",
       "    </tr>\n",
       "    <tr>\n",
       "      <th>1</th>\n",
       "      <td>1479425728782174196</td>\n",
       "      <td>0.026180</td>\n",
       "      <td>0.2500</td>\n",
       "      <td>22.508333</td>\n",
       "    </tr>\n",
       "    <tr>\n",
       "      <th>2</th>\n",
       "      <td>1479425728802231156</td>\n",
       "      <td>0.024435</td>\n",
       "      <td>0.3125</td>\n",
       "      <td>22.508333</td>\n",
       "    </tr>\n",
       "    <tr>\n",
       "      <th>3</th>\n",
       "      <td>1479425728822261199</td>\n",
       "      <td>0.024435</td>\n",
       "      <td>0.3750</td>\n",
       "      <td>22.505556</td>\n",
       "    </tr>\n",
       "    <tr>\n",
       "      <th>4</th>\n",
       "      <td>1479425728842307430</td>\n",
       "      <td>0.024435</td>\n",
       "      <td>0.3750</td>\n",
       "      <td>22.500000</td>\n",
       "    </tr>\n",
       "  </tbody>\n",
       "</table>\n",
       "</div>"
      ],
      "text/plain": [
       "             timestamp     angle  torque      speed\n",
       "0  1479425728762169221  0.026180  0.1875  22.505556\n",
       "1  1479425728782174196  0.026180  0.2500  22.508333\n",
       "2  1479425728802231156  0.024435  0.3125  22.508333\n",
       "3  1479425728822261199  0.024435  0.3750  22.505556\n",
       "4  1479425728842307430  0.024435  0.3750  22.500000"
      ]
     },
     "execution_count": 18,
     "metadata": {},
     "output_type": "execute_result"
    }
   ],
   "source": [
    "steering.head()"
   ]
  },
  {
   "cell_type": "code",
   "execution_count": 19,
   "metadata": {},
   "outputs": [],
   "source": [
    "angle = steering.angle"
   ]
  },
  {
   "cell_type": "code",
   "execution_count": 24,
   "metadata": {},
   "outputs": [
    {
     "data": {
      "text/plain": [
       "count    4979.000000\n",
       "mean        0.030054\n",
       "std         0.240916\n",
       "min        -0.363028\n",
       "25%        -0.113446\n",
       "50%        -0.012217\n",
       "75%         0.066323\n",
       "max         0.539307\n",
       "Name: angle, dtype: float64"
      ]
     },
     "execution_count": 24,
     "metadata": {},
     "output_type": "execute_result"
    }
   ],
   "source": [
    "angle.describe()"
   ]
  },
  {
   "cell_type": "code",
   "execution_count": 31,
   "metadata": {},
   "outputs": [
    {
     "data": {
      "text/plain": [
       " 0.001745    190\n",
       "-0.022689     87\n",
       "-0.005236     87\n",
       "-0.003491     81\n",
       " 0.000000     80\n",
       " 0.005236     78\n",
       "-0.027925     70\n",
       "-0.015708     70\n",
       "-0.312414     67\n",
       "-0.020944     64\n",
       "-0.019199     58\n",
       " 0.003491     52\n",
       " 0.417134     51\n",
       "-0.040143     49\n",
       "-0.033161     45\n",
       "-0.041888     45\n",
       " 0.006981     45\n",
       "-0.284489     43\n",
       " 0.422370     43\n",
       "-0.012217     42\n",
       " 0.024435     42\n",
       "-0.050615     41\n",
       "-0.045379     40\n",
       "-0.104720     40\n",
       "-0.013963     39\n",
       "-0.010472     37\n",
       "-0.036652     37\n",
       "-0.008727     36\n",
       "-0.006981     36\n",
       " 0.466003     35\n",
       "            ... \n",
       " 0.237365      1\n",
       " 0.200713      1\n",
       "-0.352556      1\n",
       " 0.101229      1\n",
       " 0.193732      1\n",
       " 0.356047      1\n",
       " 0.111701      1\n",
       "-0.204204      1\n",
       " 0.186750      1\n",
       " 0.345575      1\n",
       " 0.235619      1\n",
       "-0.191986      1\n",
       " 0.282743      1\n",
       " 0.120428      1\n",
       " 0.294961      1\n",
       " 0.240855      1\n",
       " 0.095993      1\n",
       "-0.094248      1\n",
       " 0.118682      1\n",
       " 0.127409      1\n",
       " 0.129154      1\n",
       " 0.155334      1\n",
       " 0.326377      1\n",
       " 0.164061      1\n",
       " 0.291470      1\n",
       " 0.160570      1\n",
       "-0.354302      1\n",
       " 0.343830      1\n",
       " 0.357792      1\n",
       " 0.104720      1\n",
       "Name: angle, Length: 449, dtype: int64"
      ]
     },
     "execution_count": 31,
     "metadata": {},
     "output_type": "execute_result"
    }
   ],
   "source": [
    "angle.value_counts()"
   ]
  },
  {
   "cell_type": "code",
   "execution_count": 23,
   "metadata": {},
   "outputs": [
    {
     "data": {
      "text/plain": [
       "<matplotlib.axes._subplots.AxesSubplot at 0x7f56a323a0f0>"
      ]
     },
     "execution_count": 23,
     "metadata": {},
     "output_type": "execute_result"
    },
    {
     "data": {
      "image/png": "[encoded data removed]",
      "text/plain": [
       "<matplotlib.figure.Figure at 0x7f56a326c940>"
      ]
     },
     "metadata": {},
     "output_type": "display_data"
    }
   ],
   "source": [
    "sns.distplot(angle)"
   ]
  },
  {
   "cell_type": "code",
   "execution_count": null,
   "metadata": {},
   "outputs": [],
   "source": []
  }
 ],
 "metadata": {
  "kernelspec": {
   "display_name": "Python 3",
   "language": "python",
   "name": "python3"
  },
  "language_info": {
   "codemirror_mode": {
    "name": "ipython",
    "version": 3
   },
   "file_extension": ".py",
   "mimetype": "text/x-python",
   "name": "python",
   "nbconvert_exporter": "python",
   "pygments_lexer": "ipython3",
   "version": "3.5.2"
  }
 },
 "nbformat": 4,
 "nbformat_minor": 2
}
