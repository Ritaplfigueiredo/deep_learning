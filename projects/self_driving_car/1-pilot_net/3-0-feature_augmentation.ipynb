{
 "cells": [
  {
   "cell_type": "code",
   "execution_count": 89,
   "metadata": {},
   "outputs": [],
   "source": [
    "import os\n",
    "import pickle\n",
    "import numpy as np\n",
    "import pandas as pd\n",
    "\n",
    "from config import config"
   ]
  },
  {
   "cell_type": "code",
   "execution_count": 90,
   "metadata": {},
   "outputs": [],
   "source": [
    "# Directory where the csv files and /center, /left /right directories are located.\n",
    "data_dir = config['data_dir_local']\n",
    "# Pickle file with 'image', 'steer_pred', 'steer_label' data outputted by pilot_net.py\n",
    "file_name = r'predictions.pickle'\n",
    "\n",
    "with open(file_name, 'rb') as f:\n",
    "    data = pickle.load(f)"
   ]
  },
  {
   "cell_type": "code",
   "execution_count": 91,
   "metadata": {},
   "outputs": [],
   "source": [
    "data_list = ['image', 'steer_pred', 'steer_label']\n",
    "\n",
    "# The raw data is of length 7, with each containing 32 data point.\n",
    "# 32 is the size of the mini-batch when training in this case\n",
    "reformat = lambda x: np.concatenate(np.array(data[x]))#.reshape(7,))\n",
    "\n",
    "# Reformat each data point.\n",
    "for key in data_list:\n",
    "    data[key] = reformat(key)"
   ]
  },
  {
   "cell_type": "code",
   "execution_count": 92,
   "metadata": {},
   "outputs": [
    {
     "data": {
      "text/plain": [
       "(3385, 1)"
      ]
     },
     "execution_count": 92,
     "metadata": {},
     "output_type": "execute_result"
    }
   ],
   "source": [
    "data['image'].shape"
   ]
  },
  {
   "cell_type": "code",
   "execution_count": 117,
   "metadata": {},
   "outputs": [],
   "source": [
    "import tensorflow as tf\n",
    "\n",
    "def image_aug_fn(data, data_dir):\n",
    "    # Create function that creates iterator with data set.\n",
    "    # Since image was saved as a path, we need to convert image path to\n",
    "    # actual image. \n",
    "    def _convert_image(data_set):\n",
    "        path = data_dir+'/bag1/'+data_set['image']\n",
    "        print(path)\n",
    "        x = tf.to_float(tf.image.decode_image(tf.read_file(path[0])))\n",
    "        x = x / 255.0\n",
    "        x.set_shape([480,640,3])\n",
    "  \n",
    "        x = tf.image.random_brightness(x, max_delta=32. / 255.)\n",
    "        x = tf.image.random_saturation(x, lower=0.3, upper=1.0)\n",
    "        x = tf.image.random_hue(x, max_delta=0.1)\n",
    "        x = tf.image.random_contrast(x, lower=0.2, upper=1.0)\n",
    "        x = tf.clip_by_value(x, 0.0, 1.0)\n",
    "\n",
    "        data_set['image'] = tf.image.resize_image_with_crop_or_pad(\n",
    "            x,\n",
    "            66,\n",
    "            200,\n",
    "        )\n",
    "\n",
    "        return data_set\n",
    "    \n",
    "    dataset = tf.data.Dataset.from_tensor_slices(data)\n",
    "    dataset = dataset.map(_convert_image)\n",
    "    iterator = dataset.make_one_shot_iterator()\n",
    "    next_element = iterator.get_next()\n",
    "    return next_element\n"
   ]
  },
  {
   "cell_type": "code",
   "execution_count": 118,
   "metadata": {},
   "outputs": [
    {
     "name": "stdout",
     "output_type": "stream",
     "text": [
      "Tensor(\"add:0\", shape=(1,), dtype=string)\n"
     ]
    }
   ],
   "source": [
    "next_element = image_aug_fn(data, data_dir)"
   ]
  },
  {
   "cell_type": "code",
   "execution_count": 119,
   "metadata": {},
   "outputs": [],
   "source": [
    "with tf.Session() as sess:\n",
    "    img0 = sess.run(next_element)\n",
    "    img1 = sess.run(next_element)\n",
    "    img2 = sess.run(next_element)\n"
   ]
  },
  {
   "cell_type": "code",
   "execution_count": 120,
   "metadata": {},
   "outputs": [
    {
     "data": {
      "text/plain": [
       "<matplotlib.image.AxesImage at 0x7f86b3fe39d0>"
      ]
     },
     "execution_count": 120,
     "metadata": {},
     "output_type": "execute_result"
    },
    {
     "data": {
      "image/png": "[encoded data removed]",
      "text/plain": [
       "<matplotlib.figure.Figure at 0x7f86b80dbcd0>"
      ]
     },
     "metadata": {},
     "output_type": "display_data"
    }
   ],
   "source": [
    "import matplotlib.pylab as plt\n",
    "%matplotlib inline\n",
    "plt.figure()\n",
    "plt.subplot(231)\n",
    "plt.imshow(img0['image'])\n",
    "plt.subplot(232)\n",
    "plt.imshow(img1['image'])\n",
    "plt.subplot(233)\n",
    "plt.imshow(img2['image'])\n"
   ]
  },
  {
   "cell_type": "code",
   "execution_count": null,
   "metadata": {},
   "outputs": [],
   "source": []
  },
  {
   "cell_type": "code",
   "execution_count": null,
   "metadata": {},
   "outputs": [],
   "source": []
  }
 ],
 "metadata": {
  "kernelspec": {
   "display_name": "Python 2",
   "language": "python",
   "name": "python2"
  },
  "language_info": {
   "codemirror_mode": {
    "name": "ipython",
    "version": 2
   },
   "file_extension": ".py",
   "mimetype": "text/x-python",
   "name": "python",
   "nbconvert_exporter": "python",
   "pygments_lexer": "ipython2",
   "version": "2.7.12"
  }
 },
 "nbformat": 4,
 "nbformat_minor": 2
}
