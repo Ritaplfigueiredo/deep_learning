{
 "cells": [
  {
   "cell_type": "code",
   "execution_count": 1,
   "metadata": {
    "collapsed": true
   },
   "outputs": [],
   "source": [
    "import tensorflow as tf\n",
    "import numpy as np\n",
    "from tensorflow.examples.tutorials.mnist import input_data"
   ]
  },
  {
   "cell_type": "code",
   "execution_count": 2,
   "metadata": {
    "collapsed": true
   },
   "outputs": [],
   "source": [
    "# Trying different layouts for TF models.\n",
    "# This was inspired by http://web.stanford.edu/class/cs20si/lectures/notes_04.pdf\n",
    "# Split between assembly and training and reduce verbosity."
   ]
  },
  {
   "cell_type": "code",
   "execution_count": 3,
   "metadata": {
    "collapsed": false
   },
   "outputs": [
    {
     "name": "stdout",
     "output_type": "stream",
     "text": [
      "Extracting MNIST_data/train-images-idx3-ubyte.gz\n",
      "Successfully downloaded train-labels-idx1-ubyte.gz 28881 bytes.\n",
      "Extracting MNIST_data/train-labels-idx1-ubyte.gz\n",
      "Successfully downloaded t10k-images-idx3-ubyte.gz 1648877 bytes.\n",
      "Extracting MNIST_data/t10k-images-idx3-ubyte.gz\n",
      "Successfully downloaded t10k-labels-idx1-ubyte.gz 4542 bytes.\n",
      "Extracting MNIST_data/t10k-labels-idx1-ubyte.gz\n",
      "(0, 0.93679999999999997)\n",
      "(1, 0.95950000000000002)\n",
      "(2, 0.97160000000000002)\n",
      "(3, 0.97509999999999997)\n",
      "(4, 0.97550000000000003)\n",
      "(5, 0.97670000000000001)\n",
      "(6, 0.97619999999999996)\n",
      "(7, 0.97919999999999996)\n",
      "(8, 0.97919999999999996)\n",
      "(9, 0.97989999999999999)\n"
     ]
    }
   ],
   "source": [
    "class MLP(object):\n",
    "    \"\"\" Multi layer perceptron\"\"\"\n",
    "    # https://github.com/nlintz/TensorFlow-Tutorials/blob/master/04_modern_net.py\n",
    "    \n",
    "    def __init__(self, sess, n_in, n_hidden, n_out, lr):\n",
    "        self.sess = sess\n",
    "        self.n_in = n_in\n",
    "        self.n_hidden = n_hidden\n",
    "        self.n_out = n_out\n",
    "        self.lr = lr\n",
    "        self.assemble()\n",
    "        \n",
    "    def model(self, X, w_h, w_h2, w_o, p_keep_in, p_keep_h):\n",
    "        X = tf.nn.dropout(X, p_keep_in)\n",
    "        h1 = tf.nn.relu(tf.matmul(X, w_h))\n",
    "        h1 = tf.nn.dropout(h1, p_keep_h)\n",
    "        h2 = tf.nn.relu(tf.matmul(h1, w_h2))\n",
    "        h2 = tf.nn.dropout(h2, p_keep_h)\n",
    "        return tf.matmul(h2, w_o)\n",
    "    \n",
    "    def init_weights(self, shape):\n",
    "        return tf.Variable(tf.random_normal(shape, stddev=0.01))\n",
    "        \n",
    "    def assemble(self):\n",
    "        \"\"\" Builds graph \"\"\"\n",
    "        # Create placeholders.\n",
    "        self.X = tf.placeholder(\"float\", [None, self.n_in])\n",
    "        self.Y = tf.placeholder(\"float\", [None, self.n_out])\n",
    "        self.p_keep_in = tf.placeholder(\"float\")\n",
    "        self.p_keep_h = tf.placeholder(\"float\")\n",
    "      \n",
    "        # Create variables and initialize.\n",
    "        self.w_h1 = self.init_weights([self.n_in, self.n_hidden])\n",
    "        self.w_h2 = self.init_weights([self.n_hidden, self.n_hidden])\n",
    "        self.w_o = self.init_weights([self.n_hidden, self.n_out])\n",
    "  \n",
    "        # Creates inference model.\n",
    "        self.logits = self.model(self.X, self.w_h1, self.w_h2, self.w_o, self.p_keep_in, self.p_keep_h)\n",
    "        \n",
    "        self.loss = tf.reduce_mean(tf.nn.softmax_cross_entropy_with_logits(logits=self.logits, labels=self.Y))\n",
    "        self.train_op = tf.train.RMSPropOptimizer(self.lr, 0.9).minimize(self.loss)\n",
    "        self.predict_op = tf.argmax(self.logits, axis=1)\n",
    "    \n",
    "    def train(self, trX, trY, teX, teY):\n",
    "        \"\"\" Trains data on graph \"\"\"\n",
    "        tf.global_variables_initializer().run()\n",
    "        for i in range(10):\n",
    "            for start, end in zip(range(0, len(trX), 128), range(128, len(trX)+1, 128)):\n",
    "                self.sess.run(self.train_op, feed_dict={self.X: trX[start:end], self.Y: trY[start:end],\n",
    "                                          self.p_keep_in: 0.8, self.p_keep_h: 0.5})\n",
    "            print(i, np.mean(np.argmax(teY, axis=1) ==\n",
    "                         self.sess.run(self.predict_op, feed_dict={self.X: teX, \n",
    "                                                         self.p_keep_in: 1.0,\n",
    "                                                         self.p_keep_h: 1.0})))\n",
    "            \n",
    "\n",
    "            \n",
    "# Set up data   \n",
    "mnist = input_data.read_data_sets(\"MNIST_data/\", one_hot=True)\n",
    "trX, trY, teX, teY = mnist.train.images, mnist.train.labels, mnist.test.images, mnist.test.labels\n",
    "\n",
    "# Set up graph and train\n",
    "with tf.Session() as sess:\n",
    "    model = MLP(sess, 784, 625, 10, lr=0.001)\n",
    "    model.train(trX, trY, teX, teY)"
   ]
  },
  {
   "cell_type": "code",
   "execution_count": null,
   "metadata": {
    "collapsed": true
   },
   "outputs": [],
   "source": []
  }
 ],
 "metadata": {
  "kernelspec": {
   "display_name": "Python 2",
   "language": "python",
   "name": "python2"
  },
  "language_info": {
   "codemirror_mode": {
    "name": "ipython",
    "version": 2
   },
   "file_extension": ".py",
   "mimetype": "text/x-python",
   "name": "python",
   "nbconvert_exporter": "python",
   "pygments_lexer": "ipython2",
   "version": "2.7.12"
  }
 },
 "nbformat": 4,
 "nbformat_minor": 0
}
